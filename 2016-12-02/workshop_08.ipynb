{
 "cells": [
  {
   "cell_type": "markdown",
   "metadata": {},
   "source": [
    "#Simple house modeling with random texturized floors"
   ]
  },
  {
   "cell_type": "markdown",
   "metadata": {},
   "source": [
    "##Chosen architectural plan"
   ]
  },
  {
   "cell_type": "markdown",
   "metadata": {},
   "source": [
    "<img src=\"img/floor.jpg\" width=\"500px\" height=\"500px\">"
   ]
  },
  {
   "cell_type": "markdown",
   "metadata": {},
   "source": [
    "##variables\n",
    "Actually there's no particular variable to list, the file workshop_08.py generates the house model thanks to the .lines file that are present in the lines/ directory, thus the code doesn't require key variables in it in addition to those that are used to store values for further manipulation.\n",
    "\n",
    "###.lines file that need to be present in order to generate all the house parts\n",
    "\n",
    "* bathroomX.lines X > 0\n",
    "* bedroomX.lines X > 0  \n",
    "* livingroomX.lines X > 0\n",
    "* terrace_surfaceX.lines X > 0       \n",
    "* terrace_walls.lines\n",
    "* muriinterni.lines\n",
    "* muriesterni.lines\n",
    "* finestre.lines     \n",
    "* porte.lines\n"
   ]
  },
  {
   "cell_type": "markdown",
   "metadata": {},
   "source": [
    "##Geometric functions"
   ]
  },
  {
   "cell_type": "markdown",
   "metadata": {},
   "source": [
    "Below are described the geometric function used to generate part of the entire structure, for brevity their implementation is omitted, by the way the signatures alongside with docstrings are given"
   ]
  },
  {
   "cell_type": "markdown",
   "metadata": {},
   "source": [
    "```python\n",
    "\n",
    "\"\"\"\n",
    "generate_2D_walls is function that given a lines file name return the 2D-HPC model of a wireframe \n",
    "representing a wall/set of walls.\n",
    "@param linesFileName: the file name (except .lines) of a file containing lines used as a source, \n",
    "in order to create the walls\n",
    "@return wall: the HPCs models of the generated wall/walls wireframe\n",
    "\"\"\"\n",
    "def generate_2D_walls(linesFileName):\n",
    "\t\n",
    "    #implementation here...\n",
    "\n",
    "\"\"\"\n",
    "generate_hole_models ia a function that given a lines file name return the 2D-HPC model of a set of squares, \n",
    "located where there's need to be an hole in the wall.\n",
    "@param linesFileName: the file name (except .lines) of a file containing lines used as a source, \n",
    "in order to create the squares\n",
    "@return wannaBeHoles: the HPCs models of the generated squares\n",
    "\"\"\"\n",
    "def generate_hole_models(linesFileName):\n",
    "\t\n",
    "        #implementation here...\n",
    "\n",
    "\"\"\"\n",
    "texturized_floors is a function that return a list of HPC models, in particular models of the different floors that are\n",
    "present in the building, including the external floors. No params are formally required, however this function build all\n",
    "the floors of 4 type of environment: livingroom, bathroom, bedroom, terrace.\n",
    "Moreover, in order to generate correctly all the floors, the following files are needed: bedroomX.lines, \n",
    "where X is an integer > 0, bathroomY.lines where Y is an integer > 0, livingroomZ.lines where Z in an integer > 0, \n",
    "terrace_surfaceW.lines where W is an integer > 0. It actually possible to have a series of file \n",
    "(e.g. bathroom1.lines, bathroom2.lines, ecc...). In addtion, this function could add some fancy random texture to the \n",
    "generated floors (up to 6 for every category)\n",
    "@return res: list of HPCs representing all the floors generated with their texture if any\n",
    "\"\"\"\n",
    "def texturized_floors():\n",
    "\n",
    "    #implementation here...\n",
    "\n",
    "```"
   ]
  },
  {
   "cell_type": "markdown",
   "metadata": {},
   "source": [
    "##build_house() function"
   ]
  },
  {
   "cell_type": "markdown",
   "metadata": {},
   "source": [
    "```python\n",
    "\"\"\"\n",
    "build_house is the function that generates all the house parts: walls and floors. It takes no argument, due to the fact\n",
    "that it's parameterized thanks to the data files used in its body. This function also apply some sort of scaling in order\n",
    "to transform the units of measure used in inkscape (pixels) into meters.\n",
    "@return house: the HPC model of the entire house\n",
    "@see generate_2D_walls\n",
    "@see generate_hole_models\n",
    "@see texturized_floors\n",
    "\"\"\"\n",
    "def build_house():\n",
    "\n",
    "\t#generating 2D external walls\n",
    "\texternalWalls = generate_2D_walls(\"muriesterni\")\n",
    "\n",
    "\t#defining scaling factors\n",
    "\txfactor = 15/SIZE([1])(externalWalls)[0]\n",
    "\tyfactor = 15.1/SIZE([2])(externalWalls)[0]\n",
    "\tzfactor = xfactor\n",
    "\n",
    "\t#building external 3D-walls\n",
    "\twalls = OFFSET([12,12])(externalWalls)\n",
    "\twalls = PROD([walls, Q(3/xfactor)])\n",
    "\n",
    "\t#generating internal 2D-walls\n",
    "\tinternalWalls = generate_2D_walls(\"muriinterni\")\n",
    "\n",
    "\t#building internal 3D-walls\n",
    "\tinternals = OFFSET([7,7])(internalWalls)\n",
    "\tinternals = PROD([internals, Q(3/xfactor)])\n",
    "\n",
    "\t#building 3D-doors holes\n",
    "\tdoors = generate_hole_models(\"porte\")\n",
    "\tdoors = PROD([doors, Q(2.5/xfactor)])\n",
    "\n",
    "\t#building 3D-windows holes\n",
    "\twindows = generate_hole_models(\"finestre\")\n",
    "\twindows = PROD([windows, Q(SIZE([3])(walls)[0]/2.)])\n",
    "\twindows = T(3)(SIZE([3])(walls)[0]/4.)(windows)\n",
    "\n",
    "\t#building 2D-model of the terrace walls\n",
    "\tterrace_walls = generate_2D_walls(\"terrace_walls\")\n",
    "\tterrace_walls = OFFSET([5,5])(terrace_walls)\n",
    "\n",
    "\t#building 3D-model of the terrace walls with some fancy texture addition\n",
    "\tterrace_walls = PROD([terrace_walls, Q(1.5/xfactor)])\n",
    "\tterrace_walls = TEXTURE([\"texture/wood2.jpg\",True,True,10,10,PI/2.,20,20,10,10])(terrace_walls)\n",
    "\n",
    "\t#building the frame assembling the external walls and the interior walls\n",
    "\tframe = STRUCT([walls, internals])\n",
    "\n",
    "\t#breaking the walls in order to put some windows and doors\n",
    "\texteriors = DIFFERENCE([walls, windows, doors])\n",
    "\tinteriors = DIFFERENCE([internals, doors, windows])\n",
    "\n",
    "\t#adding some fancy texture to the walls\n",
    "\texteriors = TEXTURE([\"texture/brick.jpg\",True,True,10,10,PI/2.,20,20,10,10])(exteriors)\n",
    "\tinteriors = TEXTURE([\"texture/wood.jpg\",True,True,1,1,PI/2.,5,5])(interiors)\n",
    "\n",
    "\t#building the floors\n",
    "\tfloor = STRUCT(texturized_floors())\n",
    "\n",
    "\t#scaling and assembling all together\n",
    "\thouse = S([1,2,3])([xfactor,yfactor, zfactor])(STRUCT([interiors, exteriors, terrace_walls, floor]))\n",
    "\n",
    "\treturn house\n",
    "```"
   ]
  },
  {
   "cell_type": "markdown",
   "metadata": {},
   "source": [
    "##Results"
   ]
  },
  {
   "cell_type": "markdown",
   "metadata": {},
   "source": [
    "Below are shown two executions of the main functions in such a way that the randomness of floor's texture is visible."
   ]
  },
  {
   "cell_type": "markdown",
   "metadata": {},
   "source": [
    "<table>\n",
    " <tbody>\n",
    "    <tr>\n",
    "        <td><img src=\"img/casa1.png\" style=\"width: 500px; height: 400px\"></td>\n",
    "        <td><img src=\"img/casa2.png\" style=\"width: 500px; height: 400px\"></td>\n",
    "    </tr>\n",
    "</tbody>\n",
    "</table>"
   ]
  },
  {
   "cell_type": "markdown",
   "metadata": {},
   "source": [
    "<table>\n",
    " <tbody>\n",
    "    <tr>\n",
    "        <td><img src=\"img/casa3.png\" style=\"width: 500px; height: 400px\"></td>\n",
    "        <td><img src=\"img/casa4.png\" style=\"width: 500px; height: 400px\"></td>\n",
    "    </tr>\n",
    "</tbody>\n",
    "</table>"
   ]
  },
  {
   "cell_type": "code",
   "execution_count": null,
   "metadata": {
    "collapsed": true
   },
   "outputs": [],
   "source": []
  }
 ],
 "metadata": {
  "kernelspec": {
   "display_name": "Python 2",
   "language": "python",
   "name": "python2"
  },
  "language_info": {
   "codemirror_mode": {
    "name": "ipython",
    "version": 2
   },
   "file_extension": ".py",
   "mimetype": "text/x-python",
   "name": "python",
   "nbconvert_exporter": "python",
   "pygments_lexer": "ipython2",
   "version": "2.7.12"
  }
 },
 "nbformat": 4,
 "nbformat_minor": 1
}
