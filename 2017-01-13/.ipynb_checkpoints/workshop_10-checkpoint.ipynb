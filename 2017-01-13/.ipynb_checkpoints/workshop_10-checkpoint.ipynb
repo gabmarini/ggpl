{
 "cells": [
  {
   "cell_type": "markdown",
   "metadata": {},
   "source": [
    "#Design of parametric Cottage"
   ]
  },
  {
   "cell_type": "markdown",
   "metadata": {},
   "source": [
    "##Examples and reference models"
   ]
  },
  {
   "cell_type": "markdown",
   "metadata": {},
   "source": [
    "<table>\n",
    " <tbody>\n",
    "    <tr>\n",
    "        <td><img src=\"img/house_plan0.jpg\" style=\"width: 500px; height: 400px\"></td>\n",
    "        <td><img src=\"img/house_plan1.gif\" style=\"width: 500px; height: 400px\"></td>\n",
    "    </tr>\n",
    "</tbody>\n",
    "</table>"
   ]
  },
  {
   "cell_type": "markdown",
   "metadata": {},
   "source": [
    "##Previous Workshops modification"
   ]
  },
  {
   "cell_type": "markdown",
   "metadata": {},
   "source": [
    "In order to accomplish the goals of this workshop some modification to the previous workshops were needed, a link to a clarifying notebook is provided where deep modification was made, texture/color changes are not taken in count:\n",
    "\n",
    "###[workshop_03 (stair)](src/workshop_03.ipynb)\n",
    "> this workshop was completely revised, due to the fact that it was made long ago by an unexperienced author, this plugin provide now a model of a more elegant spiral stair as a replacement of the ugly quarter turn stair made in the previous workshop. The new stair fulfill the requirements of its own workshop differently, the plugin accept no more dx, dy and dz as parameter but takes the values of riser, inter step height and stair height in order to accomplish a better parameterization of the stair, mantaining its elegance and with the possibility of an easier insertion in the spatial frame.\n",
    "\n",
    "###workshop_07 (doors and windows)\n",
    "> this workshop was barely touched, just some minor fixing to allow a better scaling from px (inkscape) to m (workshop requirements).\n",
    "\n",
    "###[workshop_08 (house spatial frame)](src/workshop_08.ipynb)\n",
    "> this workshop was enhanced to manage the possibility of inserting windows and doors model directly inside the spatial frame, two specialized method was created to manage doors and windows respectively. Moreover the main function take ulterior arguments (no arguments in the previous workshop), one for the current story that it's going to be built and three optional parameter, a generating function for the windows, a generating function for the doors and a model of a box of the stair.\n",
    "\n",
    "###workshop_09 (roof)\n",
    "> absolutely no changes."
   ]
  },
  {
   "cell_type": "markdown",
   "metadata": {},
   "source": [
    "##Variables used in the workshop"
   ]
  },
  {
   "cell_type": "markdown",
   "metadata": {},
   "source": [
    "No particular variables were used in this workshop (the actual parameter will be described below in the results section).\n",
    "For windows and doors model were used the same cells used in the 7th workshop, all the variable behaviour of the main function rely on .lines file's variability, enhancing parameterization. By the way some file are required:\n",
    "\n",
    "###walls, doors and windows\n",
    "\n",
    "* **muriesterniX.lines**\n",
    "> X is the story's identifier (e.g. 0 for ground floor, 1 for 1st floor, ecc...)\n",
    "* **muriinterniX.lines**\n",
    "> X is the story's identifier (e.g. 0 for ground floor, 1 for 1st floor, ecc...)\n",
    "* **terrace_wallsX.lines**\n",
    "> X is the story's identifier (e.g. 0 for ground floor, 1 for 1st floor, ecc...)\n",
    "* **porte_modelX.lines**\n",
    "> X is the story's identifier (e.g. 0 for ground floor, 1 for 1st floor, ecc...)\n",
    "* **finestre_modelX.lines**\n",
    "> X is the story's identifier (e.g. 0 for ground floor, 1 for 1st floor, ecc...)\n",
    "\n",
    "###surfaces\n",
    "\n",
    "* **livingroomXY/bathroomXY/bedroomXY/terrace_surfaceXY.lines**\n",
    "> X is the story's identifier (e.g. 0 for ground floor, 1 for 1st floor, ecc...), Y is the identifier of a room/surface inside/outside the current story\n",
    "\n",
    "###ladder/stair\n",
    "\n",
    "* **ladder.lines**\n",
    "> used for the stair positioning\n",
    "\n",
    "\n"
   ]
  },
  {
   "cell_type": "markdown",
   "metadata": {},
   "source": [
    "##Main function"
   ]
  },
  {
   "cell_type": "markdown",
   "metadata": {},
   "source": [
    "```python\n",
    "def multistorey_house(nStorey):\n",
    "\t\"\"\"\n",
    "\tbuildMultiStorey accept the number of storey in the building.\n",
    "\t\"\"\"\n",
    "\tdef renderWindows(XWindow, YWindow, occurrencyWindow, windowModel = False):\n",
    "\t\t\"\"\"\n",
    "\t\trenderWindows accept the window's cells and the occurrency, and optionally a window generating function \n",
    "\t\t\"\"\"\n",
    "\t\tdef renderDoors(XDoor, YDoor, occurrencyDoor, doorModel = False):\n",
    "\t\t\t\"\"\"\n",
    "\t\t\trenderWindows accept the door's cells and the occurrency, and optionally a door generating function \n",
    "\t\t\t\"\"\"\n",
    "\t\t\tdef renderRoof(vertices, pitchAngle, height):\n",
    "\t\t\t\t\"\"\"\n",
    "\t\t\t\trenderRoof accept the vertices of the base roof, a pitch angle and the desired height \n",
    "\t\t\t\tof the roof\n",
    "\t\t\t\t\"\"\"\n",
    "\t\t\t\tdef renderLadder(ladderHeight, interStep, riser):\n",
    "\t\t\t\t\t\"\"\"\n",
    "\t\t\t\t\trenderLadder is the inner function used to assembly all together, it takes the \n",
    "\t\t\t\t\tdesired height of the ladder, an interstep between two step and a riser for the single\n",
    "\t\t\t\t\tstep.\n",
    "\t\t\t\t\t\"\"\"\n",
    "\n",
    "\t\t\t\t\t#building the ladder model and the ladder box\n",
    "\t\t\t\t\tladderModel = ladder.make_ladder(ladderHeight, interStep, riser)\n",
    "\t\t\t\t\twith open(\"lines/ladder.lines\", \"rb\") as ladderFile:\n",
    "\t\t\t\t\t\treader = csv.reader(ladderFile, delimiter=\",\")\n",
    "\t\t\t\t\t\trow = next(reader)\n",
    "\t\t\t\t\t\tladderModel = T([1,2])([float(row[0])*xfactor, float(row[1])*yfactor])(ladderModel)\n",
    "\t\t\t\t\tladderBOX = CUBOID([SIZE([1])(ladderModel)[0]/xfactor,SIZE([2])(ladderModel)[0]/yfactor, SIZE([3])(ladderModel)[0]/zfactor])\n",
    "\t\t\t\t\tladderBOX = T([1,2])([float(row[0])-SIZE([1])(ladderBOX)[0]/2., float(row[1])-SIZE([2])(ladderBOX)[0]/2.])(ladderBOX)\n",
    "\n",
    "\t\t\t\t\t#building roof model\n",
    "\t\t\t\t\tif isinstance(vertices, basestring):\n",
    "\t\t\t\t\t\twith open(\"lines/\" + vertices + \".lines\", \"rb\") as file:\n",
    "\t\t\t\t\t\t\treader = csv.reader(file, delimiter=\",\")\n",
    "\t\t\t\t\t\t\tnewVertices = []\n",
    "\t\t\t\t\t\t\tfor row in reader:\n",
    "\t\t\t\t\t\t\t\tnewVertices.append([float(row[0]), float(row[1])])\n",
    "\t\t\t\t\tif newVertices:\n",
    "\t\t\t\t\t\troofModel = roof.roofBuilder(newVertices, pitchAngle, height)\n",
    "\t\t\t\t\telse:\n",
    "\t\t\t\t\t\troofModel = roof.roofBuilder(vertices, pitchAngle, height)\n",
    "\t\t\t\t\troofModel = T([3])([nStorey*3/zfactor])(roofModel)\n",
    "\t\t\t\t\troofModel = S([1,2,3])([xfactor*1.09,yfactor*1.09,zfactor])(roofModel)\n",
    "\t\t\t\t\troofModel = T([1,2])([-SIZE([1])(roofModel)[0]*0.05,-SIZE([2])(roofModel)[0]*0.05]) (roofModel)\n",
    "\n",
    "\t\t\t\t\t#building full house model with windows and doors\n",
    "\t\t\t\t\tfullHouse = []\n",
    "\t\t\t\t\tfor story in range(nStorey):\n",
    "\t\t\t\t\t\thouseModel = house.build_house(story, windowModel, doorModel, ladderBOX)\n",
    "\t\t\t\t\t\tfullHouse.append(houseModel)\n",
    "\t\t\t\t\t\tfullHouse.append(T([3])([3]))\n",
    "\t\t\t\t\tfullHouse = STRUCT(fullHouse)\n",
    "\n",
    "\t\t\t\t\t#returning the result\n",
    "\t\t\t\t\treturn STRUCT([roofModel, ladderModel, fullHouse])\n",
    "\n",
    "\t\t\t\treturn renderLadder\n",
    "\n",
    "\t\t\treturn renderRoof\n",
    "\n",
    "\t\treturn renderDoors\n",
    "\n",
    "\treturn renderWindows\n",
    "```"
   ]
  },
  {
   "cell_type": "markdown",
   "metadata": {},
   "source": [
    "##Results"
   ]
  },
  {
   "cell_type": "markdown",
   "metadata": {},
   "source": [
    "Below are shown some results, obtained with two different executions of the main function, the actual parameters of the function are the same, but the .lines used to generate all the house model are deeply different.\n",
    "\n",
    "Actual parameter used: \n",
    "> 2 storey, 3m tall external and internal wall, $\\pi$/5 pitch angle, 3m tall roof, 3m height stair, 0,2m interstep height, 0.04m riser."
   ]
  },
  {
   "cell_type": "markdown",
   "metadata": {},
   "source": [
    "##Cottage 1\n",
    "<table>\n",
    " <tbody>\n",
    "    <tr>\n",
    "        <td><img src=\"img/casa1.png\" style=\"width: 400px; height: 300px\"></td>\n",
    "        <td><img src=\"img/casa2.png\" style=\"width: 400px; height: 300px\"></td>\n",
    "    </tr>\n",
    "    <tr>\n",
    "        <td><img src=\"img/casa4.png\" style=\"width: 400px; height: 300px\"></td>\n",
    "        <td><img src=\"img/casa6.png\" style=\"width: 400px; height: 300px\"></td>\n",
    "    </tr>\n",
    "</tbody>\n",
    "</table>"
   ]
  },
  {
   "cell_type": "markdown",
   "metadata": {},
   "source": [
    "##Cottage 2"
   ]
  },
  {
   "cell_type": "markdown",
   "metadata": {},
   "source": [
    "<table>\n",
    " <tbody>\n",
    "    <tr>\n",
    "        <td><img src=\"img/casa7.png\" style=\"width: 400px; height: 300px\"></td>\n",
    "        <td><img src=\"img/casa8.png\" style=\"width: 400px; height: 300px\"></td>\n",
    "    </tr>\n",
    "    <tr>\n",
    "        <td><img src=\"img/casa9.png\" style=\"width: 400px; height: 300px\"></td>\n",
    "        <td><img src=\"img/casa10.png\" style=\"width: 400px; height: 300px\"></td>\n",
    "    </tr>\n",
    "</tbody>\n",
    "</table>"
   ]
  },
  {
   "cell_type": "code",
   "execution_count": null,
   "metadata": {
    "collapsed": true
   },
   "outputs": [],
   "source": []
  }
 ],
 "metadata": {
  "kernelspec": {
   "display_name": "Python 2",
   "language": "python",
   "name": "python2"
  },
  "language_info": {
   "codemirror_mode": {
    "name": "ipython",
    "version": 2
   },
   "file_extension": ".py",
   "mimetype": "text/x-python",
   "name": "python",
   "nbconvert_exporter": "python",
   "pygments_lexer": "ipython2",
   "version": "2.7.12"
  }
 },
 "nbformat": 4,
 "nbformat_minor": 1
}
