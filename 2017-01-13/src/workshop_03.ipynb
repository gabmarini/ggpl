{
 "cells": [
  {
   "cell_type": "markdown",
   "metadata": {},
   "source": [
    "#Spiral stair model builder"
   ]
  },
  {
   "cell_type": "markdown",
   "metadata": {},
   "source": [
    "##Reference model"
   ]
  },
  {
   "cell_type": "markdown",
   "metadata": {},
   "source": [
    "<table>\n",
    " <tbody>\n",
    "    <tr>\n",
    "        <td><img src=\"../img/scala.jpg\" style=\"width: 300px; height: 500px\"></td>\n",
    "    </tr>\n",
    "</tbody>\n",
    "</table>"
   ]
  },
  {
   "cell_type": "markdown",
   "metadata": {},
   "source": [
    "##Variables"
   ]
  },
  {
   "cell_type": "markdown",
   "metadata": {},
   "source": [
    "The variables used to generate the stair model are:\n",
    "* riser of a single step\n",
    "* inter-step height between two step\n",
    "* stair height\n",
    "\n",
    "Ulterior parameters (actually hard-coded) are:\n",
    "* step width\n",
    "* step length\n",
    "* handrail length"
   ]
  },
  {
   "cell_type": "markdown",
   "metadata": {},
   "source": [
    "##Helper and main functions"
   ]
  },
  {
   "cell_type": "markdown",
   "metadata": {},
   "source": [
    "```python \n",
    "def circle(r):\n",
    "\tdef circle0(p):\n",
    "\t\talpha = p[0]\n",
    "\t\treturn [r*COS(alpha), r*SIN(alpha)]\n",
    "\treturn circle0\n",
    "\n",
    "def make_step(step_length, step_width, riser):\n",
    "\t\"\"\"\n",
    "\tmake_step is a function that given a step length, a step width \n",
    "    and a riser generate a single step of a spiral stair, \n",
    "    including a pole's part at the beginning of the step.\n",
    "\t@param step_length: the length of a single step\n",
    "\t@param step_width: the width of a single step\n",
    "\t@param riser: riser value of the step\n",
    "\t\"\"\"\n",
    "\tmin,max = step_width\n",
    "\tdiff = (max-min)/2.\n",
    "\tstep_partial = POLYLINE([[0,0],[0,min],[step_length, min+diff],[step_length,-diff]])\n",
    "\tstep_partial = JOIN(step_partial)\n",
    "\trefiner_big = JOIN(MAP(circle(max/2.))(INTERVALS(PI)(32)))\n",
    "\trefiner_big = R([1,2])(-PI/2)(refiner_big)\n",
    "\trefiner_big = S(1)(.3)(refiner_big)\n",
    "\trefiner_big = T([1,2])([step_length,min/2.])(refiner_big)\n",
    "\trefiner_small = JOIN(MAP(circle(min))(INTERVALS(PI)(32)))\n",
    "\trefiner_small = R([1,2])(-PI/2)(refiner_small)\n",
    "\trefiner_small = T([2])([min/2.])(refiner_small)\n",
    "\tstep_partial = DIFFERENCE([step_partial, refiner_small])\n",
    "\tstep = STRUCT([refiner_big, step_partial])\n",
    "\tstep = PROD([step, Q(riser)])\n",
    "\tstep = T([2])([-min/2.])(step)\n",
    "\trefiner_pole = CYLINDER([min+(min*0.2),riser])(20)\n",
    "\treturn STRUCT([step,refiner_pole])\n",
    "\n",
    "\n",
    "def make_ladder(height, inter_step, riser):\n",
    "\t\"\"\"\n",
    "\tmake_ladder is a function that given an height, \n",
    "    an inter step value and a riser return the model of a ladder.\n",
    "\t@param height: the desired height of the stair\n",
    "\t@param inter_step: the desired height between two steps\n",
    "\t@param riser: the desired riser value for a step\n",
    "\t@return ladder: the ladder model\n",
    "\t\"\"\"\n",
    "\tstep_number = math.ceil(height/(inter_step+riser))\n",
    "\tstep = TEXTURE(\"texture/wood.jpg\")(make_step(.8,[.03,.5],.04))\n",
    "\thandrail = make_handrail(.5,.8)\n",
    "\tROT = R([1,2])(-2*PI/11)\n",
    "\tTR = T([3])([inter_step+riser])\n",
    "\tladder = [step,handrail,ROT,TR]*int(step_number)\n",
    "\tpole = TEXTURE(\"texture/copper.jpg\")\n",
    "        (CYLINDER([.03,step_number*(riser+inter_step)-inter_step])(20))\n",
    "\tladder = [pole] + ladder\n",
    "\treturn STRUCT(ladder)\n",
    "\n",
    "def make_handrail(length, step_length):\n",
    "\t\"\"\"\n",
    "\tmake_handrail is a function that given an handrail lenght \n",
    "    and a step length generate the handrail model of the corresponding step.\n",
    "\t@param length: the length of the handrail\n",
    "\t@param step_length: the lenght of the step\n",
    "\t@return handrail: handrail's model generated\n",
    "\t\"\"\"\n",
    "\thandrail = CYLINDER([0.04,length+length*0.075])(30)\n",
    "\thandrail = R([1,2])(PI/2)(handrail)\n",
    "\thandrail = R([2,3])(PI/2-SIN(length))(handrail)\n",
    "\thandrail = T([1,2,3])([step_length,length/2.,.7+.05])(handrail)\n",
    "\thandrail = TEXTURE(\"texture/copper.jpg\")(handrail)\n",
    "\tcyl1 = CYLINDER([0.02,.7+.05+TAN(SIN(length))*length/4.])(30)\n",
    "\tcyl1 = T([1,2,3])([step_length,length/2-length/4.,0.01])(cyl1)\n",
    "\tcyl1 = TEXTURE(\"texture/steel.jpg\")(cyl1)\n",
    "\tcyl2 = CYLINDER([0.02,.7+.05+TAN(SIN(length))*2*length/4.])(30)\n",
    "\tcyl2 = TEXTURE(\"texture/steel.jpg\")(cyl2)\n",
    "\tcyl2 = T([1,2,3])([step_length,length/2-2*length/4.,0.01])(cyl2)\n",
    "\tcyl3 = CYLINDER([0.02,.7+.05+TAN(SIN(length))*3*length/4.])(30)\n",
    "\tcyl3 = TEXTURE(\"texture/steel.jpg\")(cyl3)\n",
    "\tcyl3 = T([1,2,3])([step_length,length/2-3*length/4.,0.01])(cyl3)\n",
    "\treturn STRUCT([handrail, cyl1, cyl2, cyl3])\n",
    "```"
   ]
  },
  {
   "cell_type": "markdown",
   "metadata": {},
   "source": [
    "#Results"
   ]
  },
  {
   "cell_type": "markdown",
   "metadata": {},
   "source": [
    "<table>\n",
    " <tbody>\n",
    "    <tr>\n",
    "        <td><img src=\"../img/scala1.png\" style=\"width: 300px; height: 500px\"></td>\n",
    "    </tr>\n",
    "</tbody>\n",
    "</table>"
   ]
  }
 ],
 "metadata": {
  "kernelspec": {
   "display_name": "Python 2",
   "language": "python",
   "name": "python2"
  },
  "language_info": {
   "codemirror_mode": {
    "name": "ipython",
    "version": 2
   },
   "file_extension": ".py",
   "mimetype": "text/x-python",
   "name": "python",
   "nbconvert_exporter": "python",
   "pygments_lexer": "ipython2",
   "version": "2.7.12"
  }
 },
 "nbformat": 4,
 "nbformat_minor": 1
}
