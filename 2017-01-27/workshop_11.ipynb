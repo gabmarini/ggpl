{
 "cells": [
  {
   "cell_type": "markdown",
   "metadata": {},
   "source": [
    "#Suburban neighborhood design"
   ]
  },
  {
   "cell_type": "markdown",
   "metadata": {},
   "source": [
    "##Examples and reference model"
   ]
  },
  {
   "cell_type": "markdown",
   "metadata": {},
   "source": [
    "<a href=\"http://lyonvistaverde.com/beta2/i/VistaVerde_Site%20Plan%20Only_R_07-01-11-xl.jpg\">\n",
    "<img src=\"img/model.jpg\" style=\"width: 500px; height: 400px\">\n",
    "</a>"
   ]
  },
  {
   "cell_type": "markdown",
   "metadata": {},
   "source": [
    "##Previous Workshops modification"
   ]
  },
  {
   "cell_type": "markdown",
   "metadata": {},
   "source": [
    "To accomplish the goals of this workshop some slight modification were made, in order to create a more realistic scene with different elements, the previous workshop was modified inserting a random mechanism that generate almost every important part of the scene in a random way.\n",
    "\n",
    "Thanks to this modifications the main function can create theoretically thousands of different flavour of the two base house models (at least one must be pretty :wink:).\n",
    "\n",
    "###workshop_08 (house spatial frame)\n",
    "> Randomization of different house parts, such as roof, exteriors, roof-top and balconies.\n",
    "\n",
    "###workshop_10 (multistorey house)\n",
    "> Added a small wrapper to the main function and some randomization, now the generated house type can be choosen."
   ]
  },
  {
   "cell_type": "markdown",
   "metadata": {},
   "source": [
    "##Extra modules"
   ]
  },
  {
   "cell_type": "markdown",
   "metadata": {},
   "source": [
    "In order to add some green to the scene, an extra modules [tree.py](src/tree.py) was written, this module allow the construction of a very simple tree model starting from a base one, the resulting model is \"randomized\" in height, width and color (shades of green), with respect to the needed proportion reuested by the scene."
   ]
  },
  {
   "cell_type": "markdown",
   "metadata": {},
   "source": [
    "##Variables used in the workshop"
   ]
  },
  {
   "cell_type": "markdown",
   "metadata": {},
   "source": [
    "In this workshops the variables used were nearly the same of the previuos workshop and that's quite natural, by the way a brief reminder is given, for further clarification see [workshop_10](https://github.com/gabmarini/ggpl/blob/master/2017-01-13/workshop_10.ipynb), the new files/variables are **highlighted**: \n",
    "\n",
    "###walls, doors and windows\n",
    "\n",
    "* muriesterniX.lines\n",
    "* muriinterniX.lines\n",
    "* terrace_wallsX.lines\n",
    "* porte_modelX.lines\n",
    "* finestre_modelX.lines\n",
    "\n",
    "###surfaces\n",
    "\n",
    "* livingroomXY/bathroomXY/bedroomXY/terrace_surfaceXY.lines\n",
    "* **bezierX.lines**\n",
    "> used to build roads and sidewalks\n",
    "\n",
    "###ladder/stair\n",
    "\n",
    "* ladder.lines\n",
    "\n",
    "###trees\n",
    "\n",
    "* **trees.lines**\n",
    "> used to position trees"
   ]
  },
  {
   "cell_type": "markdown",
   "metadata": {
    "collapsed": true
   },
   "source": [
    "##Helper functions"
   ]
  },
  {
   "cell_type": "markdown",
   "metadata": {},
   "source": [
    "```python\n",
    "def box_max_min(boxVerts):\n",
    "\t\"\"\"\n",
    "\tbox_max_min is a function that given a list of vertices, return two vertices, the ones\n",
    "\tvisible and not covered by the plastic's borders. The former is the vertex with\n",
    "\tminimum X and Y values, meanwhile the latter is the one with maximum X and Y\n",
    "\tvalues, together they describe a 2D box used to put in place the trees.\n",
    "\t@param boxVerts: a list of vertices\n",
    "\t@return p1,p2: two points describing a 2D box in XY plane (z = 0)\n",
    "\t\"\"\"\n",
    "        #implementation here...\n",
    "\n",
    "def is_in_box(boxMinV, boxMaxV, point):\n",
    "\t\"\"\"\n",
    "\tis_in_box is a function that given a 2 points describing a box in XY plane, return True\n",
    "\tif the third point passed as parameter is contained inside the box, False otherwise.\n",
    "\t@param boxMinV: the vertex with\tminimum X and Y values \n",
    "\t@param the vertex with maximum X and Y values\n",
    "\t@param point: is the vertex to be verified\n",
    "\t@return boolean: True if the point is contained in the box, False otherwise\n",
    "\t\"\"\"\n",
    "        #implementation here...\n",
    "\n",
    "\n",
    "def build_district(n, squared = False):\n",
    "\t\"\"\"\n",
    "\tbuild_district is a function that given a number and an optional boolean parameter,\n",
    "\treturn a district of N houses if squared is false (or not passed).\n",
    "\tIf the second parameter is not False, 4 houses will be produced, arranged in \n",
    "\ta square, one house for every vertex of the square.\n",
    "\t@param n: number of houses that need to be built.\n",
    "\t@param squared: if the houses need to be arranged as a square,\n",
    "\tactually override the first parameter to 4.\n",
    "\t@return district: the HPC model of the district\n",
    "\t\"\"\"\n",
    "        #implementation here...\n",
    "\n",
    "def position_trees(box):\n",
    "\t\"\"\"\n",
    "\tposition_trees is a function that given an hpc model of a box on XY plane reads \n",
    "\ta .lines file and return a list of HPC models representing a bunch of trees. \n",
    "\tA tree is created at the beginning and the end of every line in the .lines file. \n",
    "\tA tree isn't created if it will result outside the box or on the plastic border. \n",
    "\tThe trees are slightly randomized in shape and colors.\n",
    "\t@param box: the box in which the trees will be positioned.\n",
    "\t@return trees: a list of tree hpc models\n",
    "\t\"\"\"\n",
    "        #implementation here...\n",
    "\n",
    "def chunks(l, n):\n",
    "    \"\"\"Yield successive n+1-sized chunks from l.\"\"\"\n",
    "        #implementation here...\n",
    "\n",
    "def draw_beziers():\n",
    "\t\"\"\"\n",
    "\tdraw_beziers is a function that reads a bunch of .lines file and generate the \n",
    "\trelated bezier's curves, every curve is built 2 time, the former is \n",
    "\tused in order to draw the road, meanwhile the latter is used for the sidewalk.\n",
    "\t@return roads: the HPC model of the roads plus the sidewalks\n",
    "\t\"\"\"\n",
    "        #implementation here...\n",
    "```"
   ]
  },
  {
   "cell_type": "markdown",
   "metadata": {},
   "source": [
    "##Main function"
   ]
  },
  {
   "cell_type": "markdown",
   "metadata": {},
   "source": [
    "```python\n",
    "def suburban_neighborhood():\n",
    "\t\"\"\"\n",
    "\tsuburban_neighborhood is a function that generate an HPC model of the entire \n",
    "\tneighborhood, although it won't take any argument it's capable of generating a \n",
    "\tdifferent scenario every time it is launched. Due to the randomization used \n",
    "\tit can generate hundreds of different trees and theoretically thousands of \n",
    "\tdifferent house (starting from two different house's base type).\n",
    "\tIt generate districts, roads, sidewalks, trees, rivers and the plastic box\n",
    "\tand borders.\n",
    "\t@return neighborhood: the HPC model of the neighborhood.\n",
    "\t\"\"\"\n",
    "\n",
    "\t#building roads and sidewalks\n",
    "\troads = draw_beziers()\n",
    "\n",
    "\t#building box and border\n",
    "\tbox = BOX([1,2])(roads)\n",
    "\tbox = MATERIAL([0,0,0,1,  0,.1,0,1,  0,.1,0,1, 0,0,0,1, 0])(box)\n",
    "\tborder = PROD([T([1,2])([-1,-1])(OFFSET([2,2])(SKEL_1(box))),Q(2)])\n",
    "\tborder = MATERIAL([0.53,.3,0,.1,  0,0,0,1,  0.53,.3,0,.8, 0,0,0,1, 100])(border)\n",
    "\n",
    "\t#building rivers\n",
    "\tboxMinV,boxMaxV = box_max_min(UKPOL((JOIN(SKEL_1(border))))[0])\n",
    "\n",
    "\tpoints = [[[boxMaxV[0],boxMinV[1]], [boxMaxV[0],boxMinV[1]+.75*i], [boxMaxV[0]-2.5*i,boxMinV[1]]] for i in xrange(1,32)]\n",
    "\tpoints2 = [[[boxMinV[0],boxMaxV[1]], [boxMinV[0],boxMaxV[1]-.75*i], [boxMinV[0]+.85*i,boxMaxV[1]]] for i in xrange(1,45)]\n",
    "\n",
    "\trivers = [MKPOL([ps,[[1,2,3]],1]) for ps in points]\n",
    "\trivers2 = [MKPOL([ps,[[1,2,3]],1]) for ps in points2]\n",
    "\n",
    "\triversModel = [waterify(T([3])([.005*i+1])(fiume)) for i,fiume in enumerate(rivers,0)]\n",
    "\triversModel2 = [waterify(T([3])([.005*i+1])(fiume)) for i,fiume in enumerate(rivers2,0)]\n",
    "\n",
    "\t#assebling the base\n",
    "\tbase = S([1,2])([1.45,1.45])(STRUCT([box, roads, border, STRUCT(riversModel + riversModel2)]))\n",
    "\n",
    "\t#building every single district\n",
    "\tdistrict = R([1,2])(-PI/2.44)(build_district(6))\n",
    "\tdistrict2 = R([1,2])(PI/10)(build_district(3))\n",
    "\tdistrict3 = R([1,2])(PI/2.5)(build_district(3))\n",
    "\tdistrict4 = R([1,2])(-PI+PI/5.)(build_district(5))\n",
    "\tdistrict5 = R([1,2])(PI/5.)(build_district(5))\n",
    "\tdistrict6 = R([1,2])(-PI+PI/5.)(build_district(4))\n",
    "\tdistrict7 = R([1,2])(PI/5.)(build_district(5))\n",
    "\tdistrict8 = R([1,2])(PI/8.)(build_district(0,True))\n",
    "\tdistrict9 = R([1,2])(-PI/2.60)(build_district(3))\n",
    "\tdistrict10 = R([1,2])(-PI/2.44)(build_district(6))\n",
    "\tdistrict11 = R([1,2])(-PI/3.5)(build_district(3))\n",
    "\n",
    "\t#building the entire neighborhood\n",
    "\tmodel = STRUCT([base, T([1,2])([150,262])(district), \n",
    "\tT([1,2])([245,300])(district2), \n",
    "\tT([1,2])([204,353])(district3), \n",
    "\tT([1,2])([97,366])(district4),\n",
    "\tT([1,2])([170,285])(district5),\n",
    "\tT([1,2])([53,330])(district6),\n",
    "\tT([1,2])([120,257])(district7),\n",
    "\tT([1,2])([193,285])(district8),\n",
    "\tT([1,2])([80,235])(district9),\n",
    "\tT([1,2])([168,217])(district10),\n",
    "\tT([1,2])([38,362])(district11)])\n",
    "\n",
    "\t#building trees\n",
    "\ttrees = position_trees(box)\n",
    "\n",
    "\t#assembling all together\n",
    "\tneighborhood = STRUCT([model, trees])\n",
    "\t\n",
    "\t#translating back to the origin\t\n",
    "\tboxMinV,boxMaxV = box_max_min(UKPOL(S([1,2])([1.45,1.45])(JOIN(SKEL_1(border))))[0])\n",
    "\tneighborhood = T([1,2])([-boxMinV[0], -boxMinV[1]])(neighborhood)\n",
    "\n",
    "\t#returning the result\n",
    "\treturn neighborhood\n",
    "```"
   ]
  },
  {
   "cell_type": "markdown",
   "metadata": {},
   "source": [
    "##Results"
   ]
  },
  {
   "cell_type": "markdown",
   "metadata": {},
   "source": [
    "Below are reported various stage of the execution that might be a bit time consuming, i.e. on low-medium spec machines the entire computation and rendering of the scene can take up to ~15min, that's due to the calculus made in order to produce a single house (every house is completely built both inside and outside)."
   ]
  },
  {
   "cell_type": "markdown",
   "metadata": {},
   "source": [
    "###Rivers"
   ]
  },
  {
   "cell_type": "markdown",
   "metadata": {},
   "source": [
    "The rivers were realized as a bunch of semi-transaparent overlapped laminae, the smaller is positioned in the left corner, the other tend to grow bigger (though mantaining the left corner fixed on that particular point) resulting in a fade-away effect to the right. Moreover the water try to reflect the light as realistic as possible.\n",
    "\n",
    "<table>\n",
    " <tbody>\n",
    "    <tr>\n",
    "        <td><img src=\"img/water1.png\" style=\"width: 500px; height: 400px\"></td>\n",
    "        <td><img src=\"img/water2.png\" style=\"width: 100px; height: 400px\"></td>\n",
    "        <td><img src=\"img/water3.png\" style=\"width: 100px; height: 400px\"></td>\n",
    "    </tr>\n",
    "</tbody>\n",
    "</table>"
   ]
  },
  {
   "cell_type": "markdown",
   "metadata": {},
   "source": [
    "###The base (box and borders)"
   ]
  },
  {
   "cell_type": "markdown",
   "metadata": {},
   "source": [
    "The base was realized as a dark green box with a sorrounding light brown frame, both the colors of the box and the frame were realized used the MATERIAL primitive, in fact they tend to reflect the light in a different way, as can be seen below.\n",
    "<table>\n",
    " <tbody>\n",
    "    <tr>\n",
    "        <td><img src=\"img/base1.png\" style=\"width: 500px; height: 400px\"></td>\n",
    "        <td><img src=\"img/base2.png\" style=\"width: 500px; height: 400px\"></td>\n",
    "    </tr>\n",
    "</tbody>\n",
    "</table>"
   ]
  },
  {
   "cell_type": "markdown",
   "metadata": {},
   "source": [
    "###Testing the final result"
   ]
  },
  {
   "cell_type": "markdown",
   "metadata": {},
   "source": [
    "Due to the low computational power available, all the experiments about the houses's positioning were made using a test function, in this way there's no need to render the entire house but only its box, that can suffice for the testing purpose, and moreover the render of the scene is faster, but the final results can be seen quite clearly.\n",
    "<table>\n",
    " <tbody>\n",
    "    <tr>\n",
    "        <td><img src=\"img/test1.png\" style=\"width: 700px; height: 300px\"></td>\n",
    "    </tr>\n",
    "    <tr>\n",
    "        <td><img src=\"img/test2.png\" style=\"width: 700px; height: 500px\"></td>\n",
    "    </tr>\n",
    "</tbody>\n",
    "</table>"
   ]
  },
  {
   "cell_type": "markdown",
   "metadata": {},
   "source": [
    "###Final result"
   ]
  },
  {
   "cell_type": "markdown",
   "metadata": {},
   "source": [
    "<table>\n",
    " <tbody>\n",
    "    <tr>\n",
    "        <td><img src=\"img/fine1.png\" style=\"width: 700px; height: 250px\"></td>\n",
    "    </tr>\n",
    "    \n",
    "    <tr>\n",
    "        <td><img src=\"img/fine3.png\" style=\"width: 700px; height: 150px\"></td>\n",
    "    </tr>\n",
    "    \n",
    "    <tr>\n",
    "        <td><img src=\"img/fine2.png\" style=\"width: 700px; height: 550px\"></td>\n",
    "    </tr>\n",
    "</tbody>\n",
    "</table>"
   ]
  },
  {
   "cell_type": "markdown",
   "metadata": {},
   "source": [
    "###Some particular of the scene"
   ]
  },
  {
   "cell_type": "markdown",
   "metadata": {},
   "source": [
    "<table>\n",
    " <tbody>\n",
    "    <tr>\n",
    "        <td><img src=\"img/part1.png\" style=\"width: 700px; height: 400px\"></td>\n",
    "    </tr>\n",
    "    \n",
    "    <tr>\n",
    "        <td><img src=\"img/part2.png\" style=\"width: 700px; height: 400px\"></td>\n",
    "    </tr>\n",
    "</tbody>\n",
    "</table>"
   ]
  }
 ],
 "metadata": {
  "kernelspec": {
   "display_name": "Python 2",
   "language": "python",
   "name": "python2"
  },
  "language_info": {
   "codemirror_mode": {
    "name": "ipython",
    "version": 2
   },
   "file_extension": ".py",
   "mimetype": "text/x-python",
   "name": "python",
   "nbconvert_exporter": "python",
   "pygments_lexer": "ipython2",
   "version": "2.7.12"
  }
 },
 "nbformat": 4,
 "nbformat_minor": 1
}
