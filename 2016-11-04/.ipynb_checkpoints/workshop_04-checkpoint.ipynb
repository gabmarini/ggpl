{
 "cells": [
  {
   "cell_type": "markdown",
   "metadata": {},
   "source": [
    "# L shape & U shape roof builder"
   ]
  },
  {
   "cell_type": "markdown",
   "metadata": {
    "collapsed": true
   },
   "source": [
    "<table border=\"0\" cellpadding=\"0\" cellspaceing=\"0\" frame=\"void\" rules=\"none\">\n",
    "<tr>\n",
    "<td border=\"0\" cellpadding=\"0\" cellspaceing=\"0\" frame=\"void\" rules=\"none\"><img alt=\"L-shaped\" src=\"img/roofexample1.png\" style=\"width: auto; height: 300px\"/></td>\n",
    "<td><img alt=\"L-shaped\" src=\"img/roofexample2.png\" style=\"width: auto; height: 300px\"/></td>\n",
    "</tr>\n",
    "</table>"
   ]
  },
  {
   "cell_type": "markdown",
   "metadata": {
    "collapsed": true
   },
   "source": [
    "###Variables\n",
    "The following variables were used to define the essentials parameters useful to generate the entire structure (roof and beams):\n",
    "\n",
    "```python\n",
    "#list of vertices composing the entire structure\n",
    "verts = [[X1,Y1,Y1],...,[Xn,Yn,Zn]]\n",
    "#list of convex cells composing the entire structure\n",
    "cells = [[Va,Vb,Vc],...,[Vi,Vj,Vk,Vw,...]]\n",
    "\n",
    "#roofModel used to construct the beam structure\n",
    "roofModel = MKPOL(...)\n",
    "\n",
    "#building top roof\n",
    "roof = MKPOL(...)\n",
    "\n",
    "#building beam structure\n",
    "beams = OFFSET(...)(SKEL_1(roofModel))\n",
    "```"
   ]
  },
  {
   "cell_type": "markdown",
   "metadata": {
    "collapsed": true
   },
   "source": [
    "###Helpers functions/Geometric Functions\n",
    "Below are reported the signature, alongside with their doc, of the helper/geometric functions used to generate the stairs and the walls, moreover the implementation isn't given for brevity.\n",
    "\n",
    "```python\n",
    "\n",
    "\"\"\"\n",
    "roundCoordinates is a function that given a list of vertices, round the coordinates of every vertex,\n",
    "if the vertex has a coordinate smaller than 0.001 it will be rounded to 0, alternatively it will\n",
    "be rounded to the first decimal.\n",
    "@param vertsList: a list containing vertices\n",
    "\"\"\"\n",
    "def roundCoordinates(vertsList):\n",
    "\t #implementation here...\n",
    "\n",
    "\"\"\"\n",
    "point2Cells is a function that given the result of UKPOL() function, build a dictionary in which every key\n",
    "represent a vertex, and every value represent the list of incident faces on the vertex.\n",
    "@param listUkpol: result of UKPOL() function call\n",
    "@return dictionary: dictionary cointaining key and values as described above (vertex:[faces])\n",
    "\"\"\" \n",
    "def point2Cells(listUkpol):\n",
    "\t #implementation here...\n",
    "\n",
    "\"\"\"\n",
    "planarSurfaces is a function that given a list of vertices and the corrisponding \n",
    "list of convex cells, check the complanarity of the vertices composing every convex cells.\n",
    "@see https://en.wikipedia.org/wiki/Coplanarity: for better understanding about the resolution method adopted\n",
    "@param verts: list of vertices\n",
    "@param cells: list of convex cells, according to the list of vertices passed as first argument\n",
    "@return Boolean: True if every face is composed by coplanar vertices, False otherwise\n",
    "\n",
    "\"\"\"\n",
    "def planarSurfaces(verts, cells):\n",
    "\t#implementation here...\n",
    "    \n",
    "\"\"\"\n",
    "removeBaseCells is a function that given a list of vertices and the corrisponding list of convex \n",
    "cells, removes the cells in which every vertex, that compose the convex cells, has a Z-coordinate of value 0.\n",
    "This function is used to create an opened roof on the bottom side.\n",
    "@param verts: list of vertices\n",
    "@param cells: list of convex cells, according to the list of vertices passed as first argument\n",
    "@return cleaned: list of convex cells without the cells described above\n",
    "\"\"\"\n",
    "def removeBaseCells(cells, verts):\n",
    "\t #implementation here...\n",
    "```"
   ]
  },
  {
   "cell_type": "markdown",
   "metadata": {},
   "source": [
    "###ggpl_L_and_U_roof_builder function\n",
    "Below is reported the \"main\" function of the workshop, it verify if all the surfaces are planar, if so it will continue building the roof. The construction follows two step, the former is the creation of the beam frame starting from a polyhedron representing the top roof; the latter is the creation of the top roof itself. It also account some color in the building process just for flavour.\n",
    "\n",
    "```python\n",
    "\"\"\"\n",
    "ggpl_L_and_U_roof_builder is a function that given a list of vertices and the corrisponding list of convex \n",
    "cells, build an HPC model of a L/U roof and of its beam structure.\n",
    "@param verts: list of vertices\n",
    "@param cells: list of convex cells, according to the list of vertices passed as first argument\n",
    "@return HPCmodel: the HPC model of the roof and its beam structure\n",
    "\"\"\"\n",
    "def ggpl_L_and_U_roof_builder(verts, cells):\n",
    "\n",
    "\tif(not planarSurfaces(verts, cells)):\n",
    "\t\treturn None\n",
    "\n",
    "\t#roofModel used to construct the beam structure\n",
    "\troofModel = MKPOL([verts,cells, None])\n",
    "\n",
    "\t#cleaning the cells\n",
    "\tcells = removeBaseCells(cells,verts)\n",
    "\n",
    "\t#building top roof\n",
    "\troof = MKPOL([verts,cells,None])\n",
    "\troof = OFFSET([.1,.1,.1])(roof)\n",
    "\troof = T([3])([.1])(roof)\n",
    "\troof = COLOR(Color4f([1/255., 61/255., 31/255.,1]))(roof)\n",
    "\n",
    "\t#building beam structure\n",
    "\tbeams = OFFSET([.1,.1,.1])(SKEL_1(roofModel))\n",
    "\tbeams = S([3])(.95)(beams)\n",
    "\tbeams = COLOR(Color4f([132/255., 54/255., 9/255.,1]))(beams)\n",
    "\n",
    "\t#returning the result roof+beams\n",
    "\treturn STRUCT([roof,beams])\n",
    "```"
   ]
  },
  {
   "cell_type": "markdown",
   "metadata": {},
   "source": [
    "###Calling ggpl_L_and_U_roof_builder\n",
    "\n",
    "The following images represent the structure generated that were obtained calling the function above, with the following parameters:\n",
    "\n",
    "```\n",
    "verts = [[0,0,0],[0,3,0],[6,3,0],[6,9,0],[9,9,0],[9,0,0],[1.5,1.5,2],[7.5,1.5,2],[7.5,7.5,2]]\n",
    "cells = [[1,7,2],[2,7,8,3],[3,8,9,4],[4,9,5],[8,6,5,9],[1,6,8,7],[1,6,3,2],[3,6,5,4]]\n",
    "```\n",
    "\n",
    "<img src=\"img/roof2.png\" style=\"width: 500px;\"/>\n",
    "<img src=\"img/roof4.png\" style=\"width: 500px;\"/>\n",
    "\n",
    "```\n",
    "verts = [[0,0,0], [0,10,0],[6,10,0],[6,8,0],[3,8,0],[3,4,0],[6,4,0],[6,0,0],[5,2,2],[1,2,2],[1,9,2],[5,9,2]]\n",
    "cells = [[9,8,7],[7,6,10,9],[9,10,1,8],[1,10,11,2],[2,11,12,3],[3,12,4],[4,12,11,5],[5,11,10,6],[8,7,6,1],[1,6,5,2],[2,5,4,3]]\n",
    "```\n",
    "<img src=\"img/roof5.png\" style=\"width: 500px;\"/>\n",
    "<img src=\"img/roof3.png\" style=\"width: 500px;\"/>\n",
    "\n",
    "```\n",
    "verts = [[0,0,0],[6,0,0],[6,-12,0],[3,-12,0],[3,-3,0],[0,-3,0],[1.5,-1.5,3],[4.5,-1.5,3],[4.5,-10.5,3]]\n",
    "cells = [[1,7,6],[2,8,7,1],[2,3,9,8],[4,3,9],[4,9,8,5],[5,8,7,6],[6,5,2,1],[5,4,3,2]]\n",
    "```\n",
    "\n",
    "<img src=\"img/roof6.png\" style=\"width: 500px;\"/>\n",
    "<img src=\"img/roof7.png\" style=\"width: 500px;\"/>\n"
   ]
  }
 ],
 "metadata": {
  "kernelspec": {
   "display_name": "Python 2",
   "language": "python",
   "name": "python2"
  },
  "language_info": {
   "codemirror_mode": {
    "name": "ipython",
    "version": 2
   },
   "file_extension": ".py",
   "mimetype": "text/x-python",
   "name": "python",
   "nbconvert_exporter": "python",
   "pygments_lexer": "ipython2",
   "version": "2.7.12"
  }
 },
 "nbformat": 4,
 "nbformat_minor": 1
}
