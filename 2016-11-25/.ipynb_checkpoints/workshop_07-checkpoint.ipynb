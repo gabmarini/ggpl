{
 "cells": [
  {
   "cell_type": "markdown",
   "metadata": {
    "slideshow": {
     "slide_type": "slide"
    }
   },
   "source": [
    "#Design of modern Doors and Windows"
   ]
  },
  {
   "cell_type": "markdown",
   "metadata": {
    "slideshow": {
     "slide_type": "subslide"
    }
   },
   "source": [
    "##Example models"
   ]
  },
  {
   "cell_type": "markdown",
   "metadata": {},
   "source": [
    "###In this workshop we will build a family of doors and windows starting from the two models below:"
   ]
  },
  {
   "cell_type": "markdown",
   "metadata": {},
   "source": [
    "<table>\n",
    " <tr>\n",
    "    <td><img src=\"img/finestra_esempio.jpg\" style=\"width: 350px; height: 500px\"></td>\n",
    "    <td><img src=\"img/porta_esempio.jpg\" style=\"width: 350px; height: 500px\"></td>\n",
    " </tr>\n",
    "</table>"
   ]
  },
  {
   "cell_type": "markdown",
   "metadata": {},
   "source": [
    "##Variables"
   ]
  },
  {
   "cell_type": "markdown",
   "metadata": {},
   "source": [
    "In this workshop we used four main sets of variables, the data below are merely an example:\n",
    "* X: an array of distances on X-axis, relative distance calculated on the previous point\n",
    "> X = [.4, .3, .04, .6, .05, 1.4, .04, .3, .04, .5, .3]\n",
    "* Y: an array of distances on Y-axis, relative distance calculated on the previous point\n",
    "> Y = [.1, .2, .02, .2, .02, .2, .3, .2, .02, .2 ,.02, .2, .1]\n",
    "* occurency: array of occurrences defining which cells are empty and which are filled according to cells driven representation\n",
    "> [[True, True, True],\n",
    "[True, False, False],\n",
    "[True, False, True], \n",
    "[True, False, True],\n",
    "[True, False, True]]\n",
    "* dx, dy, dz: desired dimensions of the object that needs to be generated\n",
    "> 1.8, .4, 3"
   ]
  },
  {
   "cell_type": "markdown",
   "metadata": {},
   "source": [
    "##Geometric and helper functions"
   ]
  },
  {
   "cell_type": "markdown",
   "metadata": {},
   "source": [
    "Below are descripted the helper and geometric functions written in the workshop in order to generate the HPCs models of both windows and doors. For every function is reported only the signature alongside with its docstring, the implementation is omitted for brevity."
   ]
  },
  {
   "cell_type": "markdown",
   "metadata": {},
   "source": [
    "```python\n",
    "\"\"\"\n",
    "circle is a function that, given a radius return a function that given an angle return the part \n",
    "of the circumference, defined by the angle, described by the radius.\n",
    "@param r: radius of the circumference\n",
    "@param p: angle of the circumference to represent\n",
    "@return a part of circumference\n",
    "\"\"\"\n",
    "def circle(r):\n",
    "    #implementation here...\n",
    "\n",
    "\"\"\"\n",
    "removeNegativeCells is a function that given the result of a UKPOL call, remove the cells that contain\n",
    "vertices with a negative Y-axis value, and return the cleaned polyhedron. \n",
    "This function is used to generate the window's upper arc.\n",
    "@param ukpol: the result of a UKPOL call\n",
    "@return : a polyhedron cleaned, based on the initial UKPOL\n",
    "\"\"\"\n",
    "def removeNegativeCells(ukpol):\n",
    "    #implementation here...\n",
    "    \n",
    "\"\"\"\n",
    "resizeXY is a function that given three X,Y,occurrency and two dimensions dx and dz, scale the values\n",
    "contained in X and Y, in such a way that, only empty spaces are scaled and filled spaces are mantained fixed.\n",
    "@param X: array of distances on X-axis, relative distance calculated on the previous point\n",
    "@param Y: array of distances on Y-axis, relative distance calculated on the previous point\n",
    "@param occurrency: array of occurrences defining which spaces are empty and which are filled\n",
    "@param dx: given desired dimension, X-axis\n",
    "@param dz: given desired dimension, Z-axis\n",
    "\"\"\"\n",
    "def resizeXY(X, Y, occurrency, dx, dz):\n",
    "    #implementation here...\n",
    "```"
   ]
  },
  {
   "cell_type": "markdown",
   "metadata": {},
   "source": [
    "##Main functions *window* and *door*"
   ]
  },
  {
   "cell_type": "markdown",
   "metadata": {},
   "source": [
    "##Window"
   ]
  },
  {
   "cell_type": "markdown",
   "metadata": {},
   "source": [
    "In this section is presented the code and the final result relatively to the window"
   ]
  },
  {
   "cell_type": "markdown",
   "metadata": {},
   "source": [
    "#Window function"
   ]
  },
  {
   "cell_type": "markdown",
   "metadata": {},
   "source": [
    "```python\n",
    "\"\"\"\n",
    "window is a main function that given three array, X, Y and occurrency, return the HPC model of the window\n",
    "generated according to the three parameters. X and Y contain values of distances calculated on the previous \n",
    "segment of the axis contained respectively in each array. Occurrency is a matrix containing booleans that\n",
    "map which cell is empty and which cell is filled. Window0 is an inner function useful for \"scaling\"\n",
    "(@see resizeXY) the resulting window, according to the three parameter dx, dy, dz.\n",
    "@param X: array of distances on X-axis, relative distance calculated on the previous point\n",
    "@param Y: array of distances on Y-axis, relative distance calculated on the previous point\n",
    "@param occurrency: array of occurrences defining which spaces are empty and which are filled\n",
    "@param dx: given desired dimension, X-axis\n",
    "@param dy: given desired dimension, Y-axis\n",
    "@param dz: given desired dimension, Z-axis\n",
    "\"\"\"\n",
    "def window(X,Y,occurrency):\n",
    "\n",
    "\tdef window0(dx,dy,dz):\n",
    "\n",
    "\t\t#generating arc and glass filler\n",
    "\t\tarc = CIRCLE(dx/2.)([14,2])\n",
    "\t\tarc = removeNegativeCells(UKPOL(SKEL_1(arc)))\n",
    "\t\tglassArc = JOIN(arc)\n",
    "\t\tglassArc = PROD([glassArc, Q(dy/4.*.94)])\n",
    "\t\tarc = OFFSET([.1,.1,.1])(arc)\n",
    "\t\tarc = MAP([S1,S3,S2])(arc)\n",
    "\t\tglassArc = MAP([S1,S3,S2])(glassArc)\n",
    "\t\tglassArc = S(3)(.8)(glassArc)\n",
    "\t\tarc = S(3)(.8)(arc)\n",
    "\n",
    "\t\t#calculating new space for the lower frame\n",
    "\t\tdz = dz - SIZE([3])(arc)[0]\n",
    "\n",
    "\t\t#completing upper arc\n",
    "\t\tarc = T([1,3])([dx/2., dz])(arc)\n",
    "\t\tarc = S(2)(dy/SIZE([2])(arc)[0])(arc)\n",
    "\n",
    "\t\t#generating front frame, handles and joints\n",
    "\t\tframe = CUBOID([dx/2.*.975,0.01,dz])\n",
    "\t\tframediff = S([1,3])([.95,.95])(frame)\n",
    "\t\tframediff = T([1,3])([SIZE([1])(frame)[0]*.025, SIZE([3])(frame)[0]*.025])(framediff)\n",
    "\t\tframe = DIFFERENCE([frame, framediff])\n",
    "\t\tframe = T([1,2,3])([SIZE([1])(frame)[0]*.025, dy ,SIZE([3])(frame)[0]*.025])(frame)\n",
    "\t\tframe2 = T(1)(dx/2.- SIZE([1])(frame)[0]*.025)(frame)\n",
    "\t\tjoint = CYLINDER([0.02, .1])(40)\n",
    "\t\tjoint = T([1,2,3])([dx - SIZE([1])(frame)[0]*.025,dy*1.02,dz/4.])(joint)\n",
    "\t\tjoint2 = T([3])([dz/2.])(joint)\n",
    "\t\thandle = CUBOID([.02,.02,.015])\n",
    "\t\thandle2 = CUBOID([.02,.02,.1])\n",
    "\t\thandle2 = T([2,3])([.02,-.085])(handle2)\n",
    "\t\thandles = STRUCT([handle,handle2])\n",
    "\t\thandle = T([1,2,3])([dx/2.- SIZE([1])(frame)[0]*.025 - SIZE([1])(handles)[0], dy, 11*dz/20.])(handles)\n",
    "\t\thandle2 = T([1,2,3])([dx/2.+ SIZE([1])(frame)[0]*.025, dy, 11*dz/20.])(handles)\n",
    "\n",
    "\t\t#resizing empty spaces\n",
    "\t\tresizeXY(X,Y,occurrency, dx, dz)\n",
    "\n",
    "\t\t#building main frame\n",
    "\t\tresult = []\n",
    "\t\tfor x_index in range(len(X)):\n",
    "\t\t\ty_quotes = []\n",
    "\t\t\tx_sum = sum(X[:x_index])\n",
    "\t\t\tfor y_index in range(len(Y)):\n",
    "\t\t\t\tif(occurrency[x_index][y_index] == False):\n",
    "\t\t\t\t\ty_quotes.append(-Y[y_index])\n",
    "\t\t\t\telse:\n",
    "\t\t\t\t\ty_quotes.append(Y[y_index])\n",
    "\t\t\tresult.append(PROD([ QUOTE([-x_sum, X[x_index]]), QUOTE(y_quotes)]))\n",
    "\n",
    "\t\t#remapping frame's axis\n",
    "\t\tres = STRUCT(result)\n",
    "\t\tres = MAP([S1,S3,S2])(PROD([res, Q(dy)]))\n",
    "\n",
    "\t\t#generating glass filler for the lower frame and the upper arc\n",
    "\t\tglass = CUBOID([SIZE([1])(res)[0]*0.94,dy/4.*.94,SIZE([3])(res)[0]*0.94])\n",
    "\t\tglass = T([1,2,3])([dx*0.05, dy/7.+dy*0.05, dz*0.05])(glass)\n",
    "\t\tglass = TEXTURE([\"texture/vetro2.jpg\"])(glass) \n",
    "\t\tglassArc = T([1,2,3])([dx/2., dy/7.+dy*0.05, dz])(glassArc)\n",
    "\t\tglassArc = TEXTURE([\"texture/vetro2.jpg\"])(glassArc)\n",
    "\n",
    "\t\t#adding some fancy texture to the frame, assemblig all the parts\n",
    "\t\twindowFrame = STRUCT([res, arc, frame, frame2, joint, joint2, handle, handle2])\n",
    "\t\twindowFrame = TEXTURE([\"texture/pvc.jpg\"])(windowFrame)\n",
    "\t\twindow = STRUCT([windowFrame, glass, glassArc])\n",
    "\n",
    "\t\t#global scaling\n",
    "\t\twindow = S([1,2,3])([dx/SIZE([1])(window)[0], dy/SIZE([2])(window)[0], dz/SIZE([3])(window)[0]])(window)\n",
    "\n",
    "\t\treturn window\n",
    "\n",
    "\treturn window0\n",
    "```"
   ]
  },
  {
   "cell_type": "markdown",
   "metadata": {},
   "source": [
    "Below are shown two examples of the function call, alongside with the dataset used."
   ]
  },
  {
   "cell_type": "markdown",
   "metadata": {},
   "source": [
    "Dataset:\n",
    "```python\n",
    "#dataset1\n",
    "XWindow = [.2,.8,.05,.8,.2,.8,.05,.8,.2]\n",
    "YWindow = [.1,.7,.05,.7,.05,.7,.05,.7,.01]\n",
    "\n",
    "#dataset2\n",
    "XWindow = [.1,.5,.05,.5,.2,.5,.05,.5,.1]\n",
    "YWindow = [.15,.9,.1,.9,.2,.9,.1,1.4,.1]\n",
    "\n",
    "occurrencyWindow = [[True]*9,\n",
    "\t\t\t\t\t[True,False,True,False,True,False,True,False,True],\n",
    "\t\t\t\t\t[True]*9,\n",
    "\t\t\t\t\t[True,False,True,False,True,False,True,False,True],\n",
    "\t\t\t\t\t[True]*9,\n",
    "\t\t\t\t\t[True,False,True,False,True,False,True,False,True],\n",
    "\t\t\t\t\t[True]*9,\n",
    "\t\t\t\t\t[True,False,True,False,True,False,True,False,True],\n",
    "\t\t\t\t\t[True]*9]\n",
    "#first window                  \n",
    "VIEW(window(XWindow,YWindow,occurrencyWindow)(2,.2,3))\n",
    "\n",
    "#second window\n",
    "VIEW(window(XWindow,YWindow,occurrencyWindow)(1,.3,2))\n",
    "```"
   ]
  },
  {
   "cell_type": "markdown",
   "metadata": {},
   "source": [
    "Result:"
   ]
  },
  {
   "cell_type": "markdown",
   "metadata": {},
   "source": [
    "<table>\n",
    " <tr>\n",
    "    <td><img src=\"img/finestra1.png\" style=\"width: 350px; height: 500px\"></td>\n",
    "    <td><img src=\"img/finestra2.png\" style=\"width: 350px; height: 500px\"></td>\n",
    " </tr>\n",
    "</table>"
   ]
  },
  {
   "cell_type": "markdown",
   "metadata": {},
   "source": [
    "##Door"
   ]
  },
  {
   "cell_type": "markdown",
   "metadata": {},
   "source": [
    "In this section is presented the code and the final result relatively to the door"
   ]
  },
  {
   "cell_type": "markdown",
   "metadata": {},
   "source": [
    "#Door function"
   ]
  },
  {
   "cell_type": "markdown",
   "metadata": {},
   "source": [
    "```python\n",
    "\n",
    "\"\"\"\n",
    "door is a main function that given three array, X, Y and occurrency, return the HPC model of the door\n",
    "generated according to the three parameters. X and Y contain values of distances calculated on the previous \n",
    "segment of the axis contained respectively in each array. Occurrency is a matrix containing booleans that\n",
    "map which cell is empty and which cell is filled. Door0 is an inner function useful for scaling\n",
    "the resulting door, according to the three parameter dx, dy, dz.\n",
    "@param X: array of distances on X-axis, relative distance calculated on the previous point\n",
    "@param Y: array of distances on Y-axis, relative distance calculated on the previous point\n",
    "@param occurrency: array of occurrences defining which spaces are empty and which are filled\n",
    "@param dx: given desired dimension, X-axis\n",
    "@param dy: given desired dimension, Y-axis\n",
    "@param dz: given desired dimension, Z-axis\n",
    "\"\"\"\n",
    "def door(XDoor,YDoor,occurrency):\n",
    "\n",
    "\tdef door0(dx,dy,dz):\n",
    "\n",
    "\t\tresult = []\n",
    "\t\t#creating cylinder part of the door\n",
    "\t\tcircle_door = MAP(circle(sum(YDoor[4:9])/2.*.95))(INTERVALS(2*PI)(50))\n",
    "\t\tcircle_door = PROD([JOIN(circle_door), Q(dy/4.)])\n",
    "\t\tcircle_door = MAP([S1,S3,S2])(circle_door)\n",
    "\t\tcircle_door = T([1,2,3])([dx/2., dy-dy/4.+0.001, dz/2.])(circle_door)\n",
    "\n",
    "\t\t#building main door's frame\n",
    "\t\tfor x_index in range(len(XDoor)):\n",
    "\t\t\ty_quotes = []\n",
    "\t\t\tx_sum = sum(XDoor[:x_index])\n",
    "\t\t\tfor y_index in range(len(YDoor)):\n",
    "\t\t\t\tif(occurrency[x_index][y_index] == False):\n",
    "\t\t\t\t\ty_quotes.append(-YDoor[y_index])\n",
    "\t\t\t\telse:\n",
    "\t\t\t\t\ty_quotes.append(YDoor[y_index])\n",
    "\t\t\tresult.append(PROD([ QUOTE([-x_sum, XDoor[x_index]]), QUOTE(y_quotes)]))\n",
    "\n",
    "\t\t#assembling all together\n",
    "\t\tres = PROD([STRUCT(result), Q(dy)])\n",
    "\t\tres = MAP([S2,S3,S1])(res)\n",
    "\t\tres = S([1,2,3])([dx/SIZE([1])(res)[0], dy/SIZE([2])(res)[0], dz/SIZE([3])(res)[0]]) (res)\n",
    "\t\tdoor = TEXTURE([\"texture/iron.jpg\", True, False, 1, 1, 0, 1, 1])(STRUCT([res, circle_door]))\n",
    "\n",
    "\t\t#adding some fancy glass and iron textures\n",
    "\t\tglass = CUBOID([SIZE([1])(res)[0]*0.94,dy/4.*.94,SIZE([3])(res)[0]*0.94])\n",
    "\t\tglass = T([1,2,3])([dx*0.05, dy/7.+dy*0.05, dz*0.05])(glass)\n",
    "\t\tglass = TEXTURE([\"texture/vetro.jpg\"])(glass)\n",
    "\n",
    "\t\t#building some details\n",
    "\t\trefiner = CUBOID([dx/30, dy/20,dz])\n",
    "\t\trefiner = T([1,2])([dx/2.-dx/60,dy])(refiner)\n",
    "\t\trefiner = TEXTURE([\"texture/iron.jpg\", True, False, 1, 1, 0, 1, 1])(refiner)\n",
    "\n",
    "\t\t#building the handle\n",
    "\t\thandle1 = T(3)(.15)(CUBOID([.05,.02,.2]))\n",
    "\t\thandle2 = CUBOID([.05,.02,.05])\n",
    "\t\thandle3 = T([1,2])([.01,.02])(CUBOID([.03,.02,.2]))\n",
    "\t\thandles = TEXTURE(\"texture/bronze.jpg\")(STRUCT([handle3, handle2, handle1]))\n",
    "\t\thandles = T([1,2,3])([dx/2.-2*SIZE([1])(handles)[0],dy, dz/2.-1.5*SIZE([3])(handles)[0]])(handles)\n",
    "\n",
    "\t\t#assembling all together and global scaling\n",
    "\t\tfinalDoor = S([1,2,3])([dx/SIZE([1])(res)[0], dy/SIZE([2])(res)[0], dz/SIZE([3])(res)[0]]) (STRUCT([door, glass, refiner, handles]))\n",
    "\t\t\n",
    "\t\treturn finalDoor\n",
    "\n",
    "\treturn door0\n",
    "\n",
    "```"
   ]
  },
  {
   "cell_type": "markdown",
   "metadata": {},
   "source": [
    "Below are shown two examples of the function call, alongside with the dataset used."
   ]
  },
  {
   "cell_type": "markdown",
   "metadata": {},
   "source": [
    "Dataset:\n",
    "```python\n",
    "#dataset1\n",
    "YDoor = [.1, .2, .02, .2, .02, .2, .3, .2, .02, .2 ,.02, .2, .1]\n",
    "XDoor = [.1, .2, .02, .2, .02, 1, .02, .2, .02, .2, .1]\n",
    "\n",
    "#dataset2\n",
    "YDoor = [.2, .2, .1, .4, .1, .2, .3, .2, .1, .4 ,.1, .2, .2]\n",
    "XDoor = [.4, .3, .04, .6, .05, 1.4, .04, .3, .04, .5, .3]\n",
    "\n",
    "occurencyDoor = [[True, True, True, True, True, True, True, True, True, True, True, True, True],\n",
    "\t\t\t\t[True, False, False, False, False, False, True, False, False, False, False, False, True],\n",
    "\t\t\t\t[True, False, True, True, True, True, True, True, True, True, True, False, True], \n",
    "\t\t\t\t[True, False, True, False, False, False, True, False, False, False, True, False, True],\n",
    "\t\t\t\t[True, False, True, False, True, True, True, True, True, False, True, False, True],\n",
    "\t\t\t\t[True, False, True, False, True, False, True, False, True, False, True, False, True], \n",
    "\t\t\t\t[True, False, True, False, True, True, True, True, True, False, True, False, True],\n",
    "\t\t\t\t[True, False, True, False, False, False, True, False, False, False, True, False, True],\n",
    "\t\t\t\t[True, False, True, True, True, True, True, True, True, True, True, False, True],\n",
    "\t\t\t\t[True, False, False, False, False, False, True, False, False, False, False, False, True],\n",
    "\t\t\t\t[True, True, True, True, True, True, True, True, True, True, True, True, True]]\n",
    "#first door              \n",
    "VIEW(door(XDoor, YDoor, occurencyDoor)(1.8, .4, 3))\n",
    "\n",
    "#second door\n",
    "VIEW(door(XDoor, YDoor, occurencyDoor)(2.5, .3, 3))\n",
    "```"
   ]
  },
  {
   "cell_type": "markdown",
   "metadata": {},
   "source": [
    "Result:"
   ]
  },
  {
   "cell_type": "markdown",
   "metadata": {},
   "source": [
    "<table>\n",
    " <tr>\n",
    "    <td><img src=\"img/porta1.png\" style=\"width: 350px; height: 500px\"></td>\n",
    "    <td><img src=\"img/porta2.png\" style=\"width: 350px; height: 500px\"></td>\n",
    " </tr>\n",
    "</table>"
   ]
  }
 ],
 "metadata": {
  "celltoolbar": "Raw Cell Format",
  "kernelspec": {
   "display_name": "Python 2",
   "language": "python",
   "name": "python2"
  },
  "language_info": {
   "codemirror_mode": {
    "name": "ipython",
    "version": 2
   },
   "file_extension": ".py",
   "mimetype": "text/x-python",
   "name": "python",
   "nbconvert_exporter": "python",
   "pygments_lexer": "ipython2",
   "version": "2.7.12"
  }
 },
 "nbformat": 4,
 "nbformat_minor": 1
}
