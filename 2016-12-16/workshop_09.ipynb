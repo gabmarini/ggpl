{
 "cells": [
  {
   "cell_type": "markdown",
   "metadata": {},
   "source": [
    "#Mansard Roof Builder"
   ]
  },
  {
   "cell_type": "markdown",
   "metadata": {},
   "source": [
    "##Examples and reference models"
   ]
  },
  {
   "cell_type": "markdown",
   "metadata": {},
   "source": [
    "<img src=\"img/mansardroof.png\" width=\"550px\" height=\"550px\">"
   ]
  },
  {
   "cell_type": "markdown",
   "metadata": {},
   "source": [
    "##Approach"
   ]
  },
  {
   "cell_type": "markdown",
   "metadata": {},
   "source": [
    "Below are shown the steps used in order to generate the roof:\n",
    "* from vertices build the shape of the roof bottom\n",
    "* for each edge of the roof bottom, using the pitch angle, find a plane equation according to the edge and the angle\n",
    "* find pitches's edge using the intersection of planes\n",
    "* using the roof height parameter build the pitches\n",
    "* using the pitches's top vertices build the terrace"
   ]
  },
  {
   "cell_type": "markdown",
   "metadata": {},
   "source": [
    "##Variables"
   ]
  },
  {
   "cell_type": "markdown",
   "metadata": {},
   "source": [
    "The following variables are used in order to build the roof:\n",
    "* roofVertices, a list containing the vertices of the roof bottom shape\n",
    "> actual parameter: v1 = [0,0]\n",
    "v2 = [7,0]\n",
    "v3 = [7,5]\n",
    "v4 = [6,5]\n",
    "v5 = [7,7]\n",
    "v6 = [3,8]\n",
    "v7 = [0,7]\n",
    "* roofHeight, the desired height of the roof\n",
    "* angle, the desired pitch angle"
   ]
  },
  {
   "cell_type": "markdown",
   "metadata": {},
   "source": [
    "##Geometric and helpers functions"
   ]
  },
  {
   "cell_type": "markdown",
   "metadata": {},
   "source": [
    "Below are described the geometric and helpers functions used to generate the entire roof structure, for brevity their implementation is omitted, by the way the signatures alongside with docstrings are given"
   ]
  },
  {
   "cell_type": "markdown",
   "metadata": {},
   "source": [
    "```python\n",
    "def list2CoupledList(startList):\n",
    "\t\"\"\"\n",
    "\tlist2CoupledList is a function that given a starting list, return a list containing, for every element in the \n",
    "\tstarting list, a couple (list) made by the original element and its successor, if the original element\n",
    "\tis the last of the original list, the first element of the original list is used as successor.\n",
    "\tE.g. [1,2,3] -> [[1,2],[2,3],[3,1]]\n",
    "\t@param startList: starting list\n",
    "\t@return coupledList: the list containing the couples generated as described above\n",
    "\t\"\"\"\n",
    "   \n",
    "\t#implementation here...\n",
    "    \n",
    "def planeFromLine(angle, line):\n",
    "\t\"\"\"\n",
    "\tplaneFromLine is a function that given a line and an angle, \n",
    "    return the 4 coefficients that describe a plane passing\n",
    "\tthrough the line, the plane contain both the former and the latter point of the line.\n",
    "\t@param angle: the rotation that describe a particular plane\n",
    "\t@param line: the line used to describe the boundle of planes\n",
    "\t@return planesParam: a list containing the 4 coefficients that describe a plane\n",
    "\t\"\"\"\n",
    "    \n",
    "    #implementation here...\n",
    "```"
   ]
  },
  {
   "cell_type": "markdown",
   "metadata": {},
   "source": [
    "##roofBuilder() function"
   ]
  },
  {
   "cell_type": "markdown",
   "metadata": {},
   "source": [
    "```python\n",
    "def roofBuilder(verts, angle, height):\n",
    "\t\"\"\"\n",
    "\troofBuilder is a function that given a list of vertices (roof bottom), an angle and an height, \n",
    "    return an HPC model of a roof.\n",
    "\t@param verts: the vertices that define the shape of the roof bottom\n",
    "\t@param angle: the angle used to rotate the roof pitches\n",
    "\t@param height: the desired height of the roof\n",
    "\t@return roof: the HPC model of the generated roof\n",
    "\t\"\"\"\n",
    "\n",
    "\tlines = list2CoupledList(verts)\n",
    "\n",
    "\troofBase = SOLIDIFY(POLYLINE(verts + [verts[0]]))\n",
    "\n",
    "\tplanes = []\n",
    "\tfor line in lines: \n",
    "\t\tplanes.append(planeFromLine(angle,line))\n",
    "\n",
    "\t#considering planes as couples\n",
    "\tcouplePlanes = list2CoupledList(planes)\n",
    "\n",
    "\troofTop = []\n",
    "\tlinesEquations = []\n",
    "\n",
    "\t#calculating lines equations through planes intersections\n",
    "\tfor couple in couplePlanes:\n",
    "\t\tx, y, z = symbols('x y z')\n",
    "\t\tsolved = solve([Eq(couple[0][0]*x+couple[0][1]*y+couple[0][2]*z, couple[0][3]),\n",
    "\t\t\tEq(couple[1][0]*x+couple[1][1]*y+couple[1][2]*z, couple[1][3])])\n",
    "\t\tlinesEquations.append(solved)\n",
    "\t\troofTop.append([round(float(solved[x].subs(z,roofHeight)),2), round(float(solved[y].subs(z,roofHeight)),2)])\n",
    "\n",
    "\troofTop.append(roofTop[0])\n",
    "\tterrace = T([3])([roofHeight])(SOLIDIFY(POLYLINE(roofTop)))\n",
    "\n",
    "\tcoupleLines = list2CoupledList(linesEquations)\n",
    "\troofPitch = []\n",
    "\n",
    "\t#building roof pitches\n",
    "\tfor couple in coupleLines:\n",
    "\t\tbase1 = [round(float((couple[0])[x].subs(z,0)),2),round(float((couple[0])[y].subs(z,0)),2),0]\n",
    "\t\tbase2 = [round(float((couple[1])[x].subs(z,0)),2),round(float((couple[1])[y].subs(z,0)),2),0]\n",
    "\t\ttop1 = [round(float((couple[0])[x].subs(z,roofHeight)),2),round(float((couple[0])[y].subs(z,roofHeight)),2),roofHeight]\n",
    "\t\ttop2 = [round(float((couple[1])[x].subs(z,roofHeight)),2),round(float((couple[1])[y].subs(z,roofHeight)),2),roofHeight]\n",
    "\t\tpoints = [base1, base2, top2, top1, base1]\n",
    "\t\tfaces = [[1,2,3,4]]\n",
    "\t\troofPitch.append(TEXTURE(\"textures/roof.jpg\")(MKPOL([points, faces, 1])))\n",
    "\n",
    "\troofPitch = STRUCT(roofPitch)\n",
    "\n",
    "\treturn STRUCT([TEXTURE(\"textures/surface.jpg\")(terrace), roofBase, roofPitch])\n",
    "```"
   ]
  },
  {
   "cell_type": "markdown",
   "metadata": {},
   "source": [
    "##Results"
   ]
  },
  {
   "cell_type": "markdown",
   "metadata": {},
   "source": [
    "Below are shown two executions of the main functions in such a way that the differences of the pitch angle and of the roof height are clearly visible"
   ]
  },
  {
   "cell_type": "markdown",
   "metadata": {},
   "source": [
    "#Actual parameter: height roof = 1, pitch = $\\pi$/3\n",
    "<table>\n",
    " <tbody>\n",
    "    <tr>\n",
    "        <td><img src=\"img/tetto1.png\" style=\"width: 500px; height: 400px\"></td>\n",
    "        <td><img src=\"img/tetto3.png\" style=\"width: 500px; height: 400px\"></td>\n",
    "    </tr>\n",
    "</tbody>\n",
    "</table>"
   ]
  },
  {
   "cell_type": "markdown",
   "metadata": {},
   "source": [
    "#Actual parameter: height roof = 2, pitch = $\\pi$/6\n",
    "<table>\n",
    " <tbody>\n",
    "    <tr>\n",
    "        <td><img src=\"img/tetto2.png\" style=\"width: 500px; height: 400px\"></td>\n",
    "        <td><img src=\"img/tetto4.png\" style=\"width: 500px; height: 400px\"></td>\n",
    "    </tr>\n",
    "</tbody>\n",
    "</table>"
   ]
  },
  {
   "cell_type": "code",
   "execution_count": null,
   "metadata": {
    "collapsed": true
   },
   "outputs": [],
   "source": []
  }
 ],
 "metadata": {
  "kernelspec": {
   "display_name": "Python 2",
   "language": "python",
   "name": "python2"
  },
  "language_info": {
   "codemirror_mode": {
    "name": "ipython",
    "version": 2
   },
   "file_extension": ".py",
   "mimetype": "text/x-python",
   "name": "python",
   "nbconvert_exporter": "python",
   "pygments_lexer": "ipython2",
   "version": "2.7.12"
  }
 },
 "nbformat": 4,
 "nbformat_minor": 1
}
